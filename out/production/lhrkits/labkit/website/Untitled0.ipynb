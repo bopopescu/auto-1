{
 "metadata": {
  "name": "",
  "signature": "sha256:8eb11fefbc4b53115566d45e42f27739a7909f482dd169f4ee88676dc62aa6bf"
 },
 "nbformat": 3,
 "nbformat_minor": 0,
 "worksheets": [
  {
   "cells": [
    {
     "cell_type": "code",
     "collapsed": false,
     "input": [
      "import os\n",
      "filter(os.path.isdir,map(lambda x: os.path.join('databank',x), os.listdir('databank')))"
     ],
     "language": "python",
     "metadata": {},
     "outputs": [
      {
       "metadata": {},
       "output_type": "pyout",
       "prompt_number": 10,
       "text": [
        "['databank/1-A-Neutral',\n",
        " 'databank/1-M-N',\n",
        " 'databank/1-Met-N',\n",
        " 'databank/1-N-N']"
       ]
      }
     ],
     "prompt_number": 10
    },
    {
     "cell_type": "code",
     "collapsed": false,
     "input": [
      "os.popen(\"ls databank/1-N-N/*.doc*|head -1\").read().strip()"
     ],
     "language": "python",
     "metadata": {},
     "outputs": [
      {
       "metadata": {},
       "output_type": "pyout",
       "prompt_number": 16,
       "text": [
        "'databank/1-N-N/1-N-log.docx'"
       ]
      }
     ],
     "prompt_number": 16
    },
    {
     "cell_type": "code",
     "collapsed": false,
     "input": [
      "os.path.join('1','2')"
     ],
     "language": "python",
     "metadata": {},
     "outputs": [
      {
       "metadata": {},
       "output_type": "pyout",
       "prompt_number": 18,
       "text": [
        "'1/2'"
       ]
      }
     ],
     "prompt_number": 18
    },
    {
     "cell_type": "code",
     "collapsed": false,
     "input": [],
     "language": "python",
     "metadata": {},
     "outputs": [],
     "prompt_number": 30
    },
    {
     "cell_type": "code",
     "collapsed": false,
     "input": [
      "os.listdir('.')\n"
     ],
     "language": "python",
     "metadata": {},
     "outputs": [
      {
       "metadata": {},
       "output_type": "pyout",
       "prompt_number": 35,
       "text": [
        "['.bowerrc',\n",
        " '.gitignore',\n",
        " '.ipynb_checkpoints',\n",
        " '.secret',\n",
        " 'app.log',\n",
        " 'application.py',\n",
        " 'application.pyc',\n",
        " 'archive.zip',\n",
        " 'bower.json',\n",
        " 'config.py',\n",
        " 'config.pyc',\n",
        " 'databank',\n",
        " 'demo.doc',\n",
        " 'demo.doc.docx',\n",
        " 'demo.docx',\n",
        " 'extract_docx.py',\n",
        " 'extract_docx.pyc',\n",
        " 'file0.png',\n",
        " 'helper_functions.py',\n",
        " 'helper_functions.pyc',\n",
        " 'LICENSE',\n",
        " 'mdx_code_multiline.py',\n",
        " 'mdx_code_multiline.pyc',\n",
        " 'mdx_github_gists.py',\n",
        " 'mdx_github_gists.pyc',\n",
        " 'mdx_quote.py',\n",
        " 'mdx_quote.pyc',\n",
        " 'mdx_strike.py',\n",
        " 'mdx_strike.pyc',\n",
        " 'molecule.py',\n",
        " 'molecule.pyc',\n",
        " 'mysendmail.py',\n",
        " 'mysendmail.pyc',\n",
        " 'pages',\n",
        " 'pagination.py',\n",
        " 'pagination.pyc',\n",
        " 'post.py',\n",
        " 'Procfile',\n",
        " 'README.md',\n",
        " 'requirements.txt',\n",
        " 'runtime.txt',\n",
        " 'settings.py',\n",
        " 'settings.pyc',\n",
        " 'static',\n",
        " 'templates',\n",
        " 'Untitled0.ipynb',\n",
        " 'user.py',\n",
        " 'user.pyc',\n",
        " 'web.py',\n",
        " 'web.pyc',\n",
        " 'web.wsgi']"
       ]
      }
     ],
     "prompt_number": 35
    },
    {
     "cell_type": "code",
     "collapsed": false,
     "input": [],
     "language": "python",
     "metadata": {},
     "outputs": []
    }
   ],
   "metadata": {}
  }
 ]
}